{
 "cells": [
  {
   "cell_type": "code",
   "execution_count": 1,
   "id": "b6b3d67d-eb38-4f18-80bd-9380dd967529",
   "metadata": {},
   "outputs": [
    {
     "name": "stdout",
     "output_type": "stream",
     "text": [
      "[1, 4, 9, 16, 25, 36, 49, 64, 81, 100]\n"
     ]
    }
   ],
   "source": [
    "#write a python programme to find the square of all the numbers in the given list of integer using lambda function and map\n",
    "#function\n",
    "l1=[1,2,3,4,5,6,7,8,9,10]\n",
    "def sq(l1):\n",
    "    return l1**2\n",
    "\n",
    "\n",
    "print(list(map(lambda x:x**2,l1)))"
   ]
  },
  {
   "cell_type": "code",
   "execution_count": 2,
   "id": "68dc449e-6f54-479c-b229-07b1d72b5154",
   "metadata": {},
   "outputs": [
    {
     "name": "stdout",
     "output_type": "stream",
     "text": [
      "('1', '2', '3', '4', '5', '6', '7', '8', '9', '10')\n"
     ]
    }
   ],
   "source": [
    "#write a python programme to convert the given list of integer into a tuple of strings.use map and lambda functions\n",
    "#given string [1,2,3,4,5,6,7,8,9,10]\n",
    "#given output('1','2','3','4','5','6','7','8','9','10')\n",
    "l2= [1, 2, 3, 4, 5, 6, 7, 8, 9, 10]\n",
    "result = tuple(map(lambda x: str(x), l2))\n",
    "print(result)\n",
    "from functools import reduce"
   ]
  },
  {
   "cell_type": "code",
   "execution_count": null,
   "id": "47b31021-f176-4e5f-badb-a825693d5d93",
   "metadata": {},
   "outputs": [],
   "source": []
  },
  {
   "cell_type": "code",
   "execution_count": null,
   "id": "7ec939f5-315e-432d-93a3-add151b61a7f",
   "metadata": {},
   "outputs": [],
   "source": []
  },
  {
   "cell_type": "code",
   "execution_count": null,
   "id": "6cc8a0b1-d791-49d9-9d31-ccbc153fd46b",
   "metadata": {},
   "outputs": [],
   "source": []
  },
  {
   "cell_type": "code",
   "execution_count": null,
   "id": "e40b1765-450f-477e-83ad-a8f892e1c719",
   "metadata": {},
   "outputs": [],
   "source": []
  },
  {
   "cell_type": "code",
   "execution_count": null,
   "id": "ce91590a-99c7-4d54-9f77-5653cc33a3ad",
   "metadata": {},
   "outputs": [],
   "source": []
  },
  {
   "cell_type": "code",
   "execution_count": null,
   "id": "fe57ad36-2689-4f79-9305-ade9a8800981",
   "metadata": {},
   "outputs": [],
   "source": []
  },
  {
   "cell_type": "code",
   "execution_count": null,
   "id": "c9850a03-1b65-4080-b6a9-7e2faf59485c",
   "metadata": {},
   "outputs": [],
   "source": []
  },
  {
   "cell_type": "code",
   "execution_count": null,
   "id": "9ee9116b-e520-4620-8a24-86f8b5ada123",
   "metadata": {},
   "outputs": [],
   "source": []
  },
  {
   "cell_type": "code",
   "execution_count": null,
   "id": "7a128200-e5f7-4b23-b562-026d0d999d7d",
   "metadata": {},
   "outputs": [],
   "source": []
  },
  {
   "cell_type": "code",
   "execution_count": null,
   "id": "5f3a8445-a71f-49fe-90d0-ca62ce5d72fc",
   "metadata": {},
   "outputs": [],
   "source": []
  },
  {
   "cell_type": "code",
   "execution_count": null,
   "id": "6ad7f63d-c920-4b6a-99d7-1598be099b49",
   "metadata": {},
   "outputs": [],
   "source": []
  },
  {
   "cell_type": "code",
   "execution_count": null,
   "id": "fa695fcd-b65c-4976-ab3a-6e42329cf86d",
   "metadata": {},
   "outputs": [],
   "source": []
  },
  {
   "cell_type": "code",
   "execution_count": null,
   "id": "2e55860f-3c40-4d02-a82c-59b0a175c5fe",
   "metadata": {},
   "outputs": [],
   "source": []
  },
  {
   "cell_type": "code",
   "execution_count": null,
   "id": "39fbf5b3-77d3-41fa-8b00-396d669f94e6",
   "metadata": {},
   "outputs": [],
   "source": []
  },
  {
   "cell_type": "code",
   "execution_count": null,
   "id": "916b45f3-5d83-4278-835c-1da9d266ee10",
   "metadata": {},
   "outputs": [],
   "source": []
  },
  {
   "cell_type": "code",
   "execution_count": null,
   "id": "70830652-f872-451d-9e16-6f292b9cfd0e",
   "metadata": {},
   "outputs": [],
   "source": []
  },
  {
   "cell_type": "code",
   "execution_count": null,
   "id": "31451dc4-edb5-4a15-b2c6-176cbfa8cb04",
   "metadata": {},
   "outputs": [],
   "source": []
  },
  {
   "cell_type": "code",
   "execution_count": null,
   "id": "797caaab-50f1-415a-ab7c-2db2dfed9416",
   "metadata": {},
   "outputs": [],
   "source": []
  }
 ],
 "metadata": {
  "kernelspec": {
   "display_name": "Python 3 (ipykernel)",
   "language": "python",
   "name": "python3"
  },
  "language_info": {
   "codemirror_mode": {
    "name": "ipython",
    "version": 3
   },
   "file_extension": ".py",
   "mimetype": "text/x-python",
   "name": "python",
   "nbconvert_exporter": "python",
   "pygments_lexer": "ipython3",
   "version": "3.10.8"
  }
 },
 "nbformat": 4,
 "nbformat_minor": 5
}
